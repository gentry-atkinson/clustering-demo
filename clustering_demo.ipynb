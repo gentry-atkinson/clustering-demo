{
 "cells": [
  {
   "cell_type": "markdown",
   "metadata": {},
   "source": [
    "# Clustering Past K-Means\n",
    "\n",
    "    K-Means has been a reliable stand-by in the Data Science community since the earliest days of data science. But it also comes with many serious limitations. This demonstration is meant to explore some of those limitations and to introduce you to some clustering methods that mitigate the difficulties that come with those limitations."
   ]
  },
  {
   "cell_type": "markdown",
   "metadata": {},
   "source": [
    "## Visualizing Data\n",
    "\n",
    "    I have generated a small .json file with 10000 x, Y values with some built-in clusters. Let's start the project by having a look at this data."
   ]
  },
  {
   "cell_type": "code",
   "execution_count": 1,
   "metadata": {},
   "outputs": [
    {
     "name": "stdout",
     "output_type": "stream",
     "text": [
      "bad value in file\n"
     ]
    },
    {
     "data": {
      "text/plain": [
       "<Figure size 640x480 with 1 Axes>"
      ]
     },
     "metadata": {},
     "output_type": "display_data"
    }
   ],
   "source": [
    "#Show Unclustered Data\n",
    "\n",
    "import json\n",
    "import matplotlib.pyplot as plot\n",
    "xarray = list()\n",
    "yarray = list()\n",
    "\n",
    "inFile = open(\"real_data.json\")\n",
    "try:\n",
    "    while (inFile):\n",
    "        line = inFile.readline()\n",
    "        item = json.loads(line)\n",
    "        xarray.append(item[\"X\"])\n",
    "        yarray.append(item[\"Y\"])\n",
    "        #print (\"X=\", item[\"X\"], \" Y=\", item[\"Y\"])\n",
    "except:\n",
    "    print (\"bad value in file\")\n",
    "\n",
    "plot.scatter(xarray, yarray)\n",
    "plot.show()"
   ]
  },
  {
   "cell_type": "markdown",
   "metadata": {},
   "source": [
    "## Traditional K-Means\n",
    "\n",
    "    Let's start our analyis of this data by clustering with 5-means to see what the system can generate."
   ]
  },
  {
   "cell_type": "code",
   "execution_count": 11,
   "metadata": {},
   "outputs": [
    {
     "ename": "ModuleNotFoundError",
     "evalue": "No module named 'cluster.py'; 'cluster' is not a package",
     "output_type": "error",
     "traceback": [
      "\u001b[0;31m---------------------------------------------------------------------------\u001b[0m",
      "\u001b[0;31mModuleNotFoundError\u001b[0m                       Traceback (most recent call last)",
      "\u001b[0;32m<ipython-input-11-78d8f3c9acc6>\u001b[0m in \u001b[0;36m<module>\u001b[0;34m()\u001b[0m\n\u001b[1;32m      2\u001b[0m \u001b[0;31m#Code from https://github.com/DrSkippy/Python-DP-Means-Clustering is used here\u001b[0m\u001b[0;34m\u001b[0m\u001b[0;34m\u001b[0m\u001b[0m\n\u001b[1;32m      3\u001b[0m \u001b[0;34m\u001b[0m\u001b[0m\n\u001b[0;32m----> 4\u001b[0;31m \u001b[0;32mimport\u001b[0m \u001b[0mcluster\u001b[0m\u001b[0;34m.\u001b[0m\u001b[0mpy\u001b[0m\u001b[0;34m\u001b[0m\u001b[0m\n\u001b[0m\u001b[1;32m      5\u001b[0m \u001b[0;34m\u001b[0m\u001b[0m\n\u001b[1;32m      6\u001b[0m \u001b[0mkm\u001b[0m \u001b[0;34m=\u001b[0m \u001b[0mkmeans\u001b[0m\u001b[0;34m(\u001b[0m\u001b[0;34m)\u001b[0m\u001b[0;34m\u001b[0m\u001b[0m\n",
      "\u001b[0;31mModuleNotFoundError\u001b[0m: No module named 'cluster.py'; 'cluster' is not a package"
     ]
    }
   ],
   "source": [
    "#5-means clustering\n",
    "#Code from https://github.com/DrSkippy/Python-DP-Means-Clustering is used here\n",
    "\n",
    "import cluster.py\n",
    "\n",
    "km = kmeans()"
   ]
  },
  {
   "cell_type": "markdown",
   "metadata": {},
   "source": [
    "## Split and Merge\n",
    "    One of the primary deficiencies of K-means is that it can only cluster data into a fixed number of clusters (i.e. k). One broad suite of tools solves this deficiency be incorporating the ability to \"split\" one cluster into two or more or \"merge\" two or more clusters into one.\n",
    "    Split and Merge has produced a really enormous number of algorithms. This presentation will explore several of them."
   ]
  },
  {
   "cell_type": "markdown",
   "metadata": {},
   "source": [
    "## ISODATA\n",
    "\n",
    "    The  Iterative Self-Organizing Data Analysis Technique is a modification of K-means which was first introduced in 1965. It was first proposed by the Stanford Research Institute. The original paper described the algorithm as working on large sets of high-variable data, although it's important to remember that these claims should be judged by the standards of the day."
   ]
  },
  {
   "cell_type": "code",
   "execution_count": 3,
   "metadata": {},
   "outputs": [],
   "source": [
    "#ISODATA clustering"
   ]
  },
  {
   "cell_type": "markdown",
   "metadata": {},
   "source": [
    "## BIRCH\n",
    "\n",
    "    The \"balanced iterative reducing and clustering using hierarchies\" has become the most common and reliable split and merge clustering algorithm. It was first introduced at the SIGMOD conference in 1996. BIRCH further improved over older methods by using heuristis estimators rather than examining each data point individually. This allowed it to perform with much greater efficiency on very large databases."
   ]
  },
  {
   "cell_type": "code",
   "execution_count": 4,
   "metadata": {},
   "outputs": [],
   "source": [
    "#BIRCH Clustering"
   ]
  },
  {
   "cell_type": "markdown",
   "metadata": {},
   "source": [
    "## DP Means\n",
    "    Dirichlet Process clustering is newest algorithm we'll be looking at today. It was released in 2016(?)."
   ]
  },
  {
   "cell_type": "code",
   "execution_count": 6,
   "metadata": {},
   "outputs": [
    {
     "ename": "TabError",
     "evalue": "inconsistent use of tabs and spaces in indentation (DPopt.py, line 17)",
     "output_type": "error",
     "traceback": [
      "Traceback \u001b[0;36m(most recent call last)\u001b[0m:\n",
      "  File \u001b[1;32m\"/home/user/anaconda3/lib/python3.6/site-packages/IPython/core/interactiveshell.py\"\u001b[0m, line \u001b[1;32m2910\u001b[0m, in \u001b[1;35mrun_code\u001b[0m\n    exec(code_obj, self.user_global_ns, self.user_ns)\n",
      "\u001b[0;36m  File \u001b[0;32m\"<ipython-input-6-ba600f6f428c>\"\u001b[0;36m, line \u001b[0;32m4\u001b[0;36m, in \u001b[0;35m<module>\u001b[0;36m\u001b[0m\n\u001b[0;31m    import DPopt.py\u001b[0m\n",
      "\u001b[0;36m  File \u001b[0;32m\"/home/user/Desktop/clustering-demo/DPopt.py\"\u001b[0;36m, line \u001b[0;32m17\u001b[0m\n\u001b[0;31m    kmin = k1\u001b[0m\n\u001b[0m             ^\u001b[0m\n\u001b[0;31mTabError\u001b[0m\u001b[0;31m:\u001b[0m inconsistent use of tabs and spaces in indentation\n"
     ]
    }
   ],
   "source": [
    "#DP Means clustering\n",
    "#Code from https://github.com/DrSkippy/Python-DP-Means-Clustering is used here\n",
    "\n",
    "import DPopt.py"
   ]
  },
  {
   "cell_type": "markdown",
   "metadata": {},
   "source": [
    "## Conclusion\n",
    "    Using clustering methods that do not depend on a fixed number of clusters as a starting parameter moves the data analysist towards being able to investigate date without prior knowledge of the help of an industry specialist. The 3 methods presented here are far from the only ones that are available. Do forth and do science!"
   ]
  },
  {
   "cell_type": "code",
   "execution_count": null,
   "metadata": {},
   "outputs": [],
   "source": []
  }
 ],
 "metadata": {
  "kernelspec": {
   "display_name": "Python 3",
   "language": "python",
   "name": "python3"
  },
  "language_info": {
   "codemirror_mode": {
    "name": "ipython",
    "version": 3
   },
   "file_extension": ".py",
   "mimetype": "text/x-python",
   "name": "python",
   "nbconvert_exporter": "python",
   "pygments_lexer": "ipython3",
   "version": "3.6.4"
  }
 },
 "nbformat": 4,
 "nbformat_minor": 2
}
